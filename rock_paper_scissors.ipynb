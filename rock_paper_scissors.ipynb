{
 "cells": [
  {
   "cell_type": "code",
   "execution_count": 4,
   "id": "4e23b46b",
   "metadata": {},
   "outputs": [],
   "source": [
    "\n",
    "def is_win(player,computer):\n",
    "    ''' This function will return true if the player wins '''\n",
    "    if (player=='r' and computer =='s') or (player =='s' and computer=='p') or (player =='p' and computer =='r'):\n",
    "        return True\n"
   ]
  },
  {
   "cell_type": "code",
   "execution_count": 5,
   "id": "21058cff",
   "metadata": {},
   "outputs": [],
   "source": [
    "import random\n",
    "def play():\n",
    "    user=input(\"Choose one==> 'r' for rock, 'p' for paper, 's' for scissors  \")\n",
    "    computer=random.choice(['r','p','s'])\n",
    "\n",
    "    if user==computer:\n",
    "        print('computer\\'s choice ==> ',computer)\n",
    "        return 'tie'\n",
    "\n",
    "    if is_win(user,computer):\n",
    "        print('computer\\'s choice ==> ',computer)\n",
    "        return 'You win!'\n",
    "\n",
    "    else:\n",
    "        print('computer\\'s choice ==> ',computer)\n",
    "        return 'You lost'\n"
   ]
  },
  {
   "cell_type": "code",
   "execution_count": 6,
   "id": "13fd9868",
   "metadata": {},
   "outputs": [
    {
     "name": "stdout",
     "output_type": "stream",
     "text": [
      "Choose one==> 'r' for rock, 'p' for paper, 's' for scissors  r\n",
      "computer's choice ==>  p\n",
      "You lost\n"
     ]
    }
   ],
   "source": [
    "print(play())        "
   ]
  },
  {
   "cell_type": "code",
   "execution_count": null,
   "id": "596d7efb",
   "metadata": {},
   "outputs": [],
   "source": []
  }
 ],
 "metadata": {
  "kernelspec": {
   "display_name": "Python 3",
   "language": "python",
   "name": "python3"
  },
  "language_info": {
   "codemirror_mode": {
    "name": "ipython",
    "version": 3
   },
   "file_extension": ".py",
   "mimetype": "text/x-python",
   "name": "python",
   "nbconvert_exporter": "python",
   "pygments_lexer": "ipython3",
   "version": "3.8.8"
  }
 },
 "nbformat": 4,
 "nbformat_minor": 5
}
